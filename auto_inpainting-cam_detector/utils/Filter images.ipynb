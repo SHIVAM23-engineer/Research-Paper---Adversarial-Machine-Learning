{
 "cells": [
  {
   "cell_type": "code",
   "execution_count": null,
   "id": "55a90a40",
   "metadata": {},
   "outputs": [],
   "source": [
    "import shutil\n",
    "from tensorflow.keras.preprocessing.image import load_img\n",
    "from tensorflow.keras.utils import img_to_array\n",
    "from tensorflow.keras.applications.resnet50 import (ResNet50,\n",
    "                                                    preprocess_input as resnet50_preprocess_input,\n",
    "                                                    decode_predictions as resnet50_decode_predictions)\n",
    "import numpy as np\n",
    "import json\n",
    "from matplotlib import pyplot as plt, cm\n",
    "import tensorflow as tf\n",
    "import numpy as np\n",
    "\n",
    "import os"
   ]
  },
  {
   "cell_type": "code",
   "execution_count": null,
   "id": "4e149f09",
   "metadata": {},
   "outputs": [],
   "source": [
    "root_dir = os.getcwd()\n",
    "model = ResNet50(weights='imagenet')\n",
    "\n",
    "# Download the json file of list of classes in imagenet with index\n",
    "if os.path.isfile('imagenet_class_index.json') == False:\n",
    "    !wget \"https://raw.githubusercontent.com/raghakot/keras-vis/master/resources/imagenet_class_index.json\"\n",
    "\n",
    "CLASS_INDEX = json.load(open(\"imagenet_class_index.json\"))\n",
    "classlabel  = []\n",
    "for i_dict in range(len(CLASS_INDEX)):\n",
    "    classlabel.append(CLASS_INDEX[str(i_dict)][1])"
   ]
  },
  {
   "cell_type": "code",
   "execution_count": null,
   "id": "9ada2f12",
   "metadata": {},
   "outputs": [],
   "source": [
    "os.chdir(root_dir)\n",
    "os.getcwd()"
   ]
  },
  {
   "cell_type": "code",
   "execution_count": null,
   "id": "d9b27def",
   "metadata": {},
   "outputs": [],
   "source": [
    "# Image loading directory\n",
    "load_clean = os.path.join(root_dir, '100class', 'clean_images')\n",
    "load_adv = os.path.join(root_dir, '100class', 'adv_images')\n",
    "\n",
    "#Image saving directory\n",
    "save_clean = os.path.join(root_dir, '100class_robust', 'clean_images')\n",
    "save_adv = os.path.join(root_dir, '100class_robust', 'adv_images')"
   ]
  },
  {
   "cell_type": "code",
   "execution_count": null,
   "id": "111467b7",
   "metadata": {
    "scrolled": true
   },
   "outputs": [],
   "source": [
    "os.chdir(root_dir)\n",
    "os.chdir(load_clean)\n",
    "\n",
    "for class_name in os.listdir():\n",
    "    # print(class_name)\n",
    "    os.chdir(class_name)\n",
    "    for file_name in os.listdir():\n",
    "        print(file_name)\n",
    "        cln_img = load_img(file_name, target_size=(224,224))\n",
    "        cln_img = img_to_array(cln_img).astype(np.uint8)\n",
    "        cln_img = np.expand_dims(cln_img, axis=0)\n",
    "\n",
    "        tmp_img = resnet50_preprocess_input(cln_img.copy())\n",
    "        img_pred = model.predict(tmp_img)\n",
    "        \n",
    "        prediction = resnet50_decode_predictions(img_pred, top=1)\n",
    "        class_lbl = classlabel.index(prediction[0][0][1])\n",
    "        class_list = [itm for val in CLASS_INDEX.values() for itm in val]\n",
    "        # print(class_list.index(class_name))\n",
    "        \n",
    "        # choose only those images that are correctly classified\n",
    "        if int(class_list.index(class_name)/2) == class_lbl:\n",
    "            print('true')\n",
    "            os.makedirs(os.path.join(save_clean, class_name), exist_ok=True)\n",
    "            os.makedirs(os.path.join(save_adv, class_name), exist_ok=True)\n",
    "            shutil.copy(os.path.join(load_clean, class_name, file_name), os.path.join(save_clean, class_name))\n",
    "            shutil.copy(os.path.join(load_clean, class_name, file_name), os.path.join(save_adv, class_name))\n",
    "    os.chdir('..')\n",
    "os.chdir('..')\n",
    "#             # For its adversarial counterpart, check if its adv image misclassifes correctly\n",
    "#             adv_img = os.path.join(load_adv, class_name, file_name)\n",
    "            \n",
    "#             if os.path.isfile(adv_img):\n",
    "#                 img = load_img(adv_img, target_size=(224,224))\n",
    "#                 img = img_to_array(img).astype(np.uint8)\n",
    "#                 img = np.expand_dims(img, axis=0)\n",
    "\n",
    "#                 tmp_img = resnet50_preprocess_input(img.copy())\n",
    "#                 img_pred = model.predict(tmp_img)\n",
    "\n",
    "#                 prediction = resnet50_decode_predictions(img_pred, top=1)\n",
    "#                 class_lbl = classlabel.index(prediction[0][0][1])\n",
    "#                 class_list = [itm for val in CLASS_INDEX.values() for itm in val]\n",
    "\n",
    "#                 # choose only those iamges that misclassify correctly\n",
    "#                 if int(class_list.index(class_name)/2) != class_lbl:\n",
    "#                     # print(class_lbl)\n",
    "#                     # plt.imshow(np.uint8(cln_img[0]))\n",
    "#                     # plt.show()\n",
    "#                     # plt.imshow(np.uint8(img[0]))\n",
    "#                     # plt.show()\n",
    "#                     os.makedirs(os.path.join(save_clean, class_name), exist_ok=True)\n",
    "#                     os.makedirs(os.path.join(save_adv, class_name), exist_ok=True)\n",
    "                    \n",
    "#                     shutil.copy(os.path.join(load_clean, class_name, file_name), os.path.join(save_clean, class_name))\n",
    "#                     shutil.copy(os.path.join(load_adv, class_name, file_name), os.path.join(save_adv, class_name))\n",
    "#     os.chdir('..')\n",
    "# os.chdir('..')"
   ]
  },
  {
   "cell_type": "code",
   "execution_count": null,
   "id": "d4f8299b",
   "metadata": {},
   "outputs": [],
   "source": []
  }
 ],
 "metadata": {
  "kernelspec": {
   "display_name": "tensorflow_env",
   "language": "python",
   "name": "tensorflow_env"
  },
  "language_info": {
   "codemirror_mode": {
    "name": "ipython",
    "version": 3
   },
   "file_extension": ".py",
   "mimetype": "text/x-python",
   "name": "python",
   "nbconvert_exporter": "python",
   "pygments_lexer": "ipython3",
   "version": "3.10.9"
  }
 },
 "nbformat": 4,
 "nbformat_minor": 5
}
